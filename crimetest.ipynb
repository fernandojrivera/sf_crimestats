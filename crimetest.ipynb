{
 "metadata": {
  "language_info": {
   "codemirror_mode": {
    "name": "ipython",
    "version": 3
   },
   "file_extension": ".py",
   "mimetype": "text/x-python",
   "name": "python",
   "nbconvert_exporter": "python",
   "pygments_lexer": "ipython3",
   "version": "3.8.5-final"
  },
  "orig_nbformat": 2,
  "kernelspec": {
   "name": "python3",
   "display_name": "Python 3",
   "language": "python"
  }
 },
 "nbformat": 4,
 "nbformat_minor": 2,
 "cells": [
  {
   "cell_type": "code",
   "execution_count": 1,
   "metadata": {},
   "outputs": [],
   "source": [
    "#poblar la variable de dataset y una variable de subset de 1000 registros para correr pruebas\n",
    "import pandas as pd\n",
    "import numpy as np\n",
    "\n",
    "df = pd.read_csv('crimestats.csv', header=0)\n",
    "subset1000 = df[:1001]\n"
   ]
  },
  {
   "cell_type": "code",
   "execution_count": 2,
   "metadata": {},
   "outputs": [
    {
     "output_type": "stream",
     "name": "stdout",
     "text": [
      "                      Dates       Category                      Descript  \\\ncount                878049         878049                        878049   \nunique               389257             39                           879   \ntop     2011-01-01 00:01:00  LARCENY/THEFT  GRAND THEFT FROM LOCKED AUTO   \nfreq                    185         174900                         60022   \nmean                    NaN            NaN                           NaN   \nstd                     NaN            NaN                           NaN   \nmin                     NaN            NaN                           NaN   \n25%                     NaN            NaN                           NaN   \n50%                     NaN            NaN                           NaN   \n75%                     NaN            NaN                           NaN   \nmax                     NaN            NaN                           NaN   \n\n       DayOfWeek PdDistrict Resolution                 Address              X  \\\ncount     878049     878049     878049                  878049  878049.000000   \nunique         7         10         17                   23228            NaN   \ntop       Friday   SOUTHERN       NONE  800 Block of BRYANT ST            NaN   \nfreq      133734     157182     526790                   26533            NaN   \nmean         NaN        NaN        NaN                     NaN    -122.422616   \nstd          NaN        NaN        NaN                     NaN       0.030354   \nmin          NaN        NaN        NaN                     NaN    -122.513642   \n25%          NaN        NaN        NaN                     NaN    -122.432952   \n50%          NaN        NaN        NaN                     NaN    -122.416420   \n75%          NaN        NaN        NaN                     NaN    -122.406959   \nmax          NaN        NaN        NaN                     NaN    -120.500000   \n\n                    Y  \ncount   878049.000000  \nunique            NaN  \ntop               NaN  \nfreq              NaN  \nmean        37.771020  \nstd          0.456893  \nmin         37.707879  \n25%         37.752427  \n50%         37.775421  \n75%         37.784369  \nmax         90.000000  \n"
     ]
    }
   ],
   "source": [
    "#Analizar el dataset y sus estadisticos descriptivos\n",
    "stats = df.describe(include='all')\n",
    "print(stats)"
   ]
  },
  {
   "cell_type": "code",
   "execution_count": null,
   "metadata": {},
   "outputs": [],
   "source": [
    "#dibujar pareto de categorias para identificar las mas significativas\n",
    "import matplotlib.pyplot as plt\n",
    "import seaborn as sns\n",
    "\n",
    "sns.set_theme(style=\"ticks\")\n",
    "\n",
    "cat_count = pd.DataFrame(df.Category.value_counts())\n",
    "cat_count['cumpercentage'] = cat_count['Category'].cumsum()/cat_count['Category'].sum()*100\n",
    "\n",
    "fig, ax1 = plt.subplots(figsize=(10,6))\n",
    "ax1.set_title('Cantidad de crimenes por categoria, 2003-2015', fontsize=16)\n",
    "ax1.set_xlabel('Categoria', fontsize=12)\n",
    "ax2 = sns.barplot(x=cat_count.index, y=cat_count.Category, data = cat_count, palette='flare')\n",
    "ax1.set_ylabel('Cantidad de crimenes' , fontsize = 12)\n",
    "ax2 = ax1.twinx()\n",
    "color = 'tab:blue'\n",
    "ax2 = sns.lineplot(x=cat_count.index, y=cat_count.cumpercentage, data = cat_count, sort=False, color=color)\n",
    "ax2.set_ylabel('Frecuencia(%) acumulada de crimenes', fontsize = 12)\n",
    "ax2.axhline(80, ls='--')\n",
    "ax1.set_xticklabels(ax1.get_xticklabels(), rotation=90)\n",
    "plt.show()"
   ]
  },
  {
   "cell_type": "code",
   "execution_count": null,
   "metadata": {},
   "outputs": [],
   "source": [
    "#extraer las categorias que agrupan el 80% de los crimenes para una visualizacion mas limpia\n",
    "top80 = cat_count.index[:12]\n",
    "newdf = df[df.Category.isin(top80)]\n",
    "\n"
   ]
  },
  {
   "cell_type": "code",
   "execution_count": 4,
   "metadata": {},
   "outputs": [
    {
     "output_type": "execute_result",
     "data": {
      "text/plain": [
       "         Category  DayOfWeek PdDistrict      Resolution\n",
       "0        WARRANTS  Wednesday   NORTHERN  ARREST, BOOKED\n",
       "1  OTHER OFFENSES  Wednesday   NORTHERN  ARREST, BOOKED\n",
       "2  OTHER OFFENSES  Wednesday   NORTHERN  ARREST, BOOKED\n",
       "3   LARCENY/THEFT  Wednesday   NORTHERN            NONE\n",
       "4   LARCENY/THEFT  Wednesday       PARK            NONE"
      ],
      "text/html": "<div>\n<style scoped>\n    .dataframe tbody tr th:only-of-type {\n        vertical-align: middle;\n    }\n\n    .dataframe tbody tr th {\n        vertical-align: top;\n    }\n\n    .dataframe thead th {\n        text-align: right;\n    }\n</style>\n<table border=\"1\" class=\"dataframe\">\n  <thead>\n    <tr style=\"text-align: right;\">\n      <th></th>\n      <th>Category</th>\n      <th>DayOfWeek</th>\n      <th>PdDistrict</th>\n      <th>Resolution</th>\n    </tr>\n  </thead>\n  <tbody>\n    <tr>\n      <th>0</th>\n      <td>WARRANTS</td>\n      <td>Wednesday</td>\n      <td>NORTHERN</td>\n      <td>ARREST, BOOKED</td>\n    </tr>\n    <tr>\n      <th>1</th>\n      <td>OTHER OFFENSES</td>\n      <td>Wednesday</td>\n      <td>NORTHERN</td>\n      <td>ARREST, BOOKED</td>\n    </tr>\n    <tr>\n      <th>2</th>\n      <td>OTHER OFFENSES</td>\n      <td>Wednesday</td>\n      <td>NORTHERN</td>\n      <td>ARREST, BOOKED</td>\n    </tr>\n    <tr>\n      <th>3</th>\n      <td>LARCENY/THEFT</td>\n      <td>Wednesday</td>\n      <td>NORTHERN</td>\n      <td>NONE</td>\n    </tr>\n    <tr>\n      <th>4</th>\n      <td>LARCENY/THEFT</td>\n      <td>Wednesday</td>\n      <td>PARK</td>\n      <td>NONE</td>\n    </tr>\n  </tbody>\n</table>\n</div>"
     },
     "metadata": {},
     "execution_count": 4
    }
   ],
   "source": [
    "\n",
    "df['Dates'] = pd.to_datetime(df['Dates'])\n",
    "df['Year'] = pd.DatetimeIndex(df['Dates']).year\n",
    "df['Month'] = pd.DatetimeIndex(df['Dates']).month\n",
    "df['Hour'] = pd.DatetimeIndex(df['Dates']).hour + pd.DatetimeIndex(df['Dates']).minute / 60\n",
    "df['timestamp'] = (df['Dates'] - df['Dates'].min())  / np.timedelta64(1,'D')\n",
    "\n",
    "df_cat = df.select_dtypes(object)\n",
    "df_num = df.select_dtypes(np.number)\n",
    "\n",
    "df_cat.drop(['Descript','Address'], axis=1, inplace=True)\n",
    "df_cat.head()\n",
    "\n"
   ]
  },
  {
   "cell_type": "code",
   "execution_count": 5,
   "metadata": {},
   "outputs": [],
   "source": [
    "from sklearn.preprocessing import LabelEncoder\n",
    "le = LabelEncoder()\n",
    "df_cat = df_cat.apply(le.fit_transform)\n"
   ]
  },
  {
   "cell_type": "code",
   "execution_count": 6,
   "metadata": {},
   "outputs": [],
   "source": [
    "df_final = pd.concat([df_cat,df_num],axis=1)"
   ]
  },
  {
   "cell_type": "code",
   "execution_count": 7,
   "metadata": {},
   "outputs": [],
   "source": [
    "X = df_final.drop(['Category'], axis=1)\n",
    "Y = df_final['Category']\n",
    "X_train = np.array(X[0:int(0.80*len(X))])\n",
    "Y_train = np.array(Y[0:int(0.80*len(Y))])\n",
    "X_test = np.array(X[int(0.80*len(X)):])\n",
    "Y_test = np.array(Y[int(0.80*len(Y)):])"
   ]
  },
  {
   "cell_type": "code",
   "execution_count": null,
   "metadata": {},
   "outputs": [],
   "source": [
    "from sklearn.linear_model import LogisticRegression\n",
    "#from sklearn.neighbors import KNeighborsClassifier\n",
    "#from sklearn.naive_bayes import GaussianNB\n",
    "#from sklearn.svm import LinearSVC\n",
    "#from sklearn.svm import SVC\n",
    "#from sklearn.tree import DecisionTreeClassifier\n",
    "#from sklearn.ensemble import RandomForestClassifier\n",
    "from sklearn.metrics import accuracy_score\n",
    "\n",
    "LR = LogisticRegression()\n",
    "#KNN = KNeighborsClassifier()\n",
    "#NB = GaussianNB()\n",
    "#LSVM = LinearSVC()\n",
    "#NLSVM = SVC(kernel='rbf')\n",
    "#DT = DecisionTreeClassifier()\n",
    "#RF = RandomForestClassifier()\n",
    "\n",
    "LR_fit = LR.fit(X_train, Y_train)\n",
    "#KNN_fit = KNN.fit(X_train, Y_train)\n",
    "#NB_fit = NB.fit(X_train, Y_train)\n",
    "#LSVM_fit = LSVM.fit(X_train, Y_train)\n",
    "#NLSVM_fit = NLSVM.fit(X_train, Y_train)\n",
    "#DT_fit = DT.fit(X_train, Y_train)\n",
    "#RF_fit = RF.fit(X_train, Y_train)\n",
    "\n",
    "LR_pred = LR_fit.predict(X_test)\n",
    "#KNN_pred = KNN_fit.predict(X_test)\n",
    "#NB_pred = NB_fit.predict(X_test)\n",
    "#LSVM_pred = LSVM_fit.predict(X_test)\n",
    "#NLSVM_pred = NLSVM_fit.predict(X_test)\n",
    "#DT_pred = DT_fit.predict(X_test)\n",
    "#RF_pred = RF_fit.predict(X_test)\n",
    "\n",
    "print(\"Logistic Regression is %f percent accurate\" % (accuracy_score(LR_pred, Y_test)*100))\n",
    "#print(\"KNN is %f percent accurate\" % (accuracy_score(KNN_pred, Y_test)*100))\n",
    "#print(\"Naive Bayes is %f percent accurate\" % (accuracy_score(NB_pred, Y_test)*100))\n",
    "#print(\"Linear SVMs is %f percent accurate\" % (accuracy_score(LSVM_pred, Y_test)*100))\n",
    "#print(\"Non Linear SVMs is %f percent accurate\" % (accuracy_score(NLSVM_pred, Y_test)*100))\n",
    "#print(\"Decision Trees is %f percent accurate\" % (accuracy_score(DT_pred, Y_test)*100))\n",
    "#print(\"Random Forests is %f percent accurate\" % (accuracy_score(RF_pred, Y_test)*100))"
   ]
  },
  {
   "cell_type": "code",
   "execution_count": null,
   "metadata": {},
   "outputs": [],
   "source": [
    "import folium\n",
    "import webbrowser\n",
    "\n",
    "latitude = 37.773972\n",
    "longitude = -122.431297\n",
    "crime_map = folium.Map(location=[latitude, longitude], zoom_start=5)"
   ]
  }
 ]
}